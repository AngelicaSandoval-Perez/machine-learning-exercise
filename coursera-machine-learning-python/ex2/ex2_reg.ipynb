{
 "cells": [
  {
   "cell_type": "markdown",
   "metadata": {},
   "source": [
    "# Machine Learning Online Class - Exercise 2: Logistic Regression\n",
    "\n",
    "In this part of the exercise, we will implement regularized logistic regression to predict whether microchips from a fabrication plant passes quality assurance (QA). During QA, each microchip goes through various tests to ensure it is functioning correctly."
   ]
  },
  {
   "cell_type": "markdown",
   "metadata": {},
   "source": [
    "## Load Data\n",
    "\n",
    "The first two columns contains the x values and the third column contains the label (y)."
   ]
  },
  {
   "cell_type": "code",
   "execution_count": 1,
   "metadata": {
    "collapsed": true
   },
   "outputs": [],
   "source": [
    "import numpy as np\n",
    "\n",
    "\n",
    "data = np.loadtxt(open(\"ex2data2.txt\", \"r\"), delimiter=\",\")\n",
    "x = data[:, 0:2]\n",
    "y = data[:, 2:3]"
   ]
  },
  {
   "cell_type": "markdown",
   "metadata": {},
   "source": [
    "The `plot_data` is the same as in ex2."
   ]
  },
  {
   "cell_type": "code",
   "execution_count": 2,
   "metadata": {
    "collapsed": true
   },
   "outputs": [],
   "source": [
    "import matplotlib.pyplot as plt\n",
    "\n",
    "\n",
    "def plot_data(x, y, show=False):\n",
    "    \"\"\"\n",
    "    Plots the data points x and y into a new figure.\n",
    "\n",
    "    Parameters\n",
    "    ----------\n",
    "    x : array\n",
    "        Data on x axis. It's a m by 2 matrix, where m is the number of data samples and the number of features is 2.\n",
    "    y : array\n",
    "        Data on y axis, m by 1 matrix.\n",
    "    show : bool\n",
    "        True to show the plot immediately.\n",
    "    \"\"\"\n",
    "    plt.figure()\n",
    "\n",
    "    pos = np.argwhere(y.flatten() == 1)\n",
    "    neg = np.argwhere(y.flatten() == 0)\n",
    "\n",
    "    plt.plot(x[pos, 0], x[pos, 1], linestyle='', marker='+', color='k')\n",
    "    plt.plot(x[neg, 0], x[neg, 1], linestyle='', marker='o', color='y')\n",
    "\n",
    "    if show:\n",
    "        plt.show()"
   ]
  },
  {
   "cell_type": "markdown",
   "metadata": {},
   "source": [
    "Plot the data:"
   ]
  },
  {
   "cell_type": "code",
   "execution_count": 3,
   "metadata": {
    "collapsed": false
   },
   "outputs": [
    {
     "data": {
      "image/png": "[encoded data removed]",
      "text/plain": [
       "<matplotlib.figure.Figure at 0x10a778150>"
      ]
     },
     "metadata": {},
     "output_type": "display_data"
    }
   ],
   "source": [
    "plot_data(x, y)\n",
    "# Labels and Legend\n",
    "plt.xlabel('Microchip Test 1')\n",
    "plt.ylabel('Microchip Test 2')\n",
    "plt.legend(['y = 1', 'y = 0'], loc='upper right', numpoints=1)\n",
    "plt.show()"
   ]
  },
  {
   "cell_type": "markdown",
   "metadata": {},
   "source": [
    "## Part 1: Regularized Logistic Regression\n",
    "\n",
    "The `map_feature` function below maps input features to polynomial ones."
   ]
  },
  {
   "cell_type": "code",
   "execution_count": 4,
   "metadata": {
    "collapsed": true
   },
   "outputs": [],
   "source": [
    "def map_feature(x1, x2):\n",
    "    \"\"\"\n",
    "    Feature mapping function to polynomial features. Inputs X1, X2 must be the same size.\n",
    "\n",
    "    Parameters\n",
    "    ----------\n",
    "    x1 : ndarray\n",
    "        Input feature.\n",
    "    x2 : ndarray\n",
    "        Input feature.\n",
    "\n",
    "    Returns\n",
    "    -------\n",
    "    out : ndarray\n",
    "        A new feature array with more features, comprising of X1, X2, X1.^2, X2.^2, X1*X2, X1*X2.^2, etc..\n",
    "    \"\"\"\n",
    "    degree = 6\n",
    "    out = np.ones(x1[:, 0:1].shape)\n",
    "\n",
    "    for i in range(1, degree + 1):\n",
    "        for j in range(0, i + 1):\n",
    "            tmp = np.power(x1, i - j) * np.power(x2, j)\n",
    "            out = np.concatenate((out, tmp), axis=1)\n",
    "    return out"
   ]
  },
  {
   "cell_type": "markdown",
   "metadata": {},
   "source": [
    "Add polynomial features: "
   ]
  },
  {
   "cell_type": "code",
   "execution_count": 5,
   "metadata": {
    "collapsed": true
   },
   "outputs": [],
   "source": [
    "# Note that map_feature also adds a column of ones for us, so the intercept term is handled\n",
    "x = map_feature(x[:, 0:1], x[:, 1:2])"
   ]
  },
  {
   "cell_type": "markdown",
   "metadata": {},
   "source": [
    "Initialize parameters as follows: "
   ]
  },
  {
   "cell_type": "code",
   "execution_count": 6,
   "metadata": {
    "collapsed": true
   },
   "outputs": [],
   "source": [
    "m, n = x.shape\n",
    "# Initialize fitting parameters\n",
    "initial_theta = np.zeros((n, 1))\n",
    "# Set regularization parameter lambda to 1\n",
    "l = 1"
   ]
  },
  {
   "cell_type": "markdown",
   "metadata": {},
   "source": [
    "The `cost_function_reg` function below compute cost and gradient for logistic regression with regularization."
   ]
  },
  {
   "cell_type": "code",
   "execution_count": 7,
   "metadata": {
    "collapsed": true
   },
   "outputs": [],
   "source": [
    "def sigmoid(z):\n",
    "    \"\"\"\n",
    "    Compute sigmoid function.\n",
    "\n",
    "    Parameters\n",
    "    ----------\n",
    "    z : array_like\n",
    "        Variable for sigmoid function.\n",
    "\n",
    "    Returns\n",
    "    -------\n",
    "    ndarray\n",
    "        The sigmoid of each value of z.\n",
    "    \"\"\"\n",
    "    g = 1 / (1 + np.exp(-z))\n",
    "    return g\n",
    "\n",
    "\n",
    "def cost_function_reg(theta, x, y, l):\n",
    "    \"\"\"\n",
    "    Compute cost and gradient for logistic regression with regularization.\n",
    "\n",
    "    Parameters\n",
    "    ----------\n",
    "    theta : ndarray\n",
    "        Linear regression parameter, n by 1 matrix where n is the number of features.\n",
    "    x : ndarray\n",
    "        Training data, m by n matrix where m is the number of data samples.\n",
    "    y : ndarray\n",
    "        Labels, m by 1 matrix.\n",
    "    l : float\n",
    "        Regularization parameter.\n",
    "\n",
    "    Returns\n",
    "    -------\n",
    "    J : numpy.float64\n",
    "        The cost of using theta as the parameter for regularized logistic regression w.r.t. the parameters.\n",
    "    grad: ndarray\n",
    "        Partial derivatives of the cost w.r.t. each parameter in theta, n by 1 matrix.\n",
    "    \"\"\"\n",
    "    (m, n) = x.shape\n",
    "    theta = theta.reshape(n, 1)\n",
    "\n",
    "    x_dot_theta = x.dot(theta)\n",
    "    mask = np.eye(theta.shape[0])\n",
    "    # Skip the theta[0, 0] parameter when performing regularization\n",
    "    mask[0, 0] = 0\n",
    "\n",
    "    j = 1.0 / m * (np.dot(-y.T, np.log(sigmoid(x_dot_theta))) - np.dot((1 - y).T, np.log(1 - sigmoid(x_dot_theta)))) \\\n",
    "        + 1.0 * l / (2 * m) * np.sum(np.power((mask.dot(theta)), 2))\n",
    "    grad = 1.0 / m * np.dot((sigmoid(x_dot_theta) - y).T, x).T + 1.0 * l / m * (mask.dot(theta))\n",
    "\n",
    "    return j, grad"
   ]
  },
  {
   "cell_type": "markdown",
   "metadata": {},
   "source": [
    "Test `cost_function_reg` on inital parameters:"
   ]
  },
  {
   "cell_type": "code",
   "execution_count": 8,
   "metadata": {
    "collapsed": false
   },
   "outputs": [
    {
     "name": "stdout",
     "output_type": "stream",
     "text": [
      "Cost at initial theta (zeros): [[ 0.69314718]]\n"
     ]
    }
   ],
   "source": [
    "j, g = cost_function_reg(initial_theta, x, y, l)\n",
    "\n",
    "print 'Cost at initial theta (zeros):', j"
   ]
  },
  {
   "cell_type": "markdown",
   "metadata": {},
   "source": [
    "## Part 2: Regularization and Accuracies\n",
    "\n",
    "The `fmin_tnc` function in `scipy.optimize` requires a seperate implemention for cost and gradient function as follows: "
   ]
  },
  {
   "cell_type": "code",
   "execution_count": 9,
   "metadata": {
    "collapsed": true
   },
   "outputs": [],
   "source": [
    "def cost_reg_opt(theta, x, y, l):\n",
    "    \"\"\"\n",
    "    Compute cost for logistic regression with regularization.\n",
    "\n",
    "    Parameters\n",
    "    ----------\n",
    "    theta : ndarray\n",
    "        Linear regression parameter, n by 1 matrix where n is the number of features.\n",
    "    x : ndarray\n",
    "        Training data, m by n matrix where m is the number of data samples.\n",
    "    y : ndarray\n",
    "        Labels, m by 1 matrix.\n",
    "    l : float\n",
    "        Regularization parameter.\n",
    "\n",
    "    Returns\n",
    "    -------\n",
    "    J : numpy.float64\n",
    "        The cost of using theta as the parameter for linear regression to fit the data points in x and y.\n",
    "    \"\"\"\n",
    "    j, g = cost_function_reg(theta, x, y, l)\n",
    "    return j\n",
    "\n",
    "\n",
    "def gradient_reg_opt(theta, x, y, l):\n",
    "    \"\"\"\n",
    "    Compute gradient for logistic regression with regularization.\n",
    "\n",
    "    Parameters\n",
    "    ----------\n",
    "    theta : ndarray\n",
    "        Linear regression parameter, n by 1 matrix where n is the number of features.\n",
    "    x : ndarray\n",
    "        Training data, m by n matrix where m is the number of data samples.\n",
    "    y : ndarray\n",
    "        Labels, m by 1 matrix.\n",
    "    l : float\n",
    "        Regularization parameter.\n",
    "\n",
    "    Returns\n",
    "    -------\n",
    "    grad: ndarray\n",
    "        Partial derivatives of the cost w.r.t. each parameter in theta, n by 1 matrix.\n",
    "    \"\"\"\n",
    "    j, g = cost_function_reg(theta, x, y, l)\n",
    "    return g"
   ]
  },
  {
   "cell_type": "markdown",
   "metadata": {},
   "source": [
    "Train the model with `fin_tnc`:"
   ]
  },
  {
   "cell_type": "code",
   "execution_count": 10,
   "metadata": {
    "collapsed": false
   },
   "outputs": [],
   "source": [
    "import scipy.optimize as opt\n",
    "\n",
    "\n",
    "result = opt.fmin_tnc(func=cost_reg_opt, x0=initial_theta, fprime=gradient_reg_opt, args=(x, y, l), messages=0)\n",
    "theta = result[0].T"
   ]
  },
  {
   "cell_type": "markdown",
   "metadata": {},
   "source": [
    "The `plot_decision_boundary` plots the data points with the decision boundary defined by theta."
   ]
  },
  {
   "cell_type": "code",
   "execution_count": 11,
   "metadata": {
    "collapsed": true
   },
   "outputs": [],
   "source": [
    "import numpy as np\n",
    "import matplotlib.pyplot as plt\n",
    "\n",
    "from map_feature import map_feature\n",
    "\n",
    "\n",
    "def plot_decision_boundary(theta, x, y):\n",
    "    \"\"\"\n",
    "    Plots the data points X and y into a new figure with the decision boundary defined by theta.\n",
    "\n",
    "    Parameters\n",
    "    ----------\n",
    "    theta : ndarray\n",
    "        Linear regression parameter, n by 1 matrix where n is the number of features.\n",
    "    x : ndarray\n",
    "        Training data, m by n matrix where m is the number of data samples.\n",
    "    y : ndarray\n",
    "        Labels, m by 1 matrix.\n",
    "    \"\"\"\n",
    "    if x.shape[1] <= 3:\n",
    "        plot_x = np.array([np.amin(x[:, 1]) - 2, np.amax(x[:, 1]) + 2])\n",
    "        plot_y = -1.0 / theta[2] * (theta[1] * plot_x + theta[0])\n",
    "        print plot_x, plot_y\n",
    "        plt.plot(plot_x, plot_y)\n",
    "    else:\n",
    "        u = np.linspace(-1, 1.5, 50)\n",
    "        u.resize((len(u), 1))\n",
    "        v = np.linspace(-1, 1.5, 50)\n",
    "        v.resize((len(v), 1))\n",
    "        z = np.zeros((len(u), len(v)))\n",
    "        for i in range(len(u)):\n",
    "            for j in range(len(v)):\n",
    "                z[i, j] = map_feature(u[i, 0:1].reshape((1,1)), v[j, 0:1].reshape((1,1))).dot(theta)\n",
    "        z = z.T\n",
    "        u, v = np.meshgrid(u, v)\n",
    "        cs = plt.contour(u, v, z, levels=[0])\n",
    "        fmt = {}\n",
    "        strs = ['Decision boundary']\n",
    "        for l, s in zip(cs.levels, strs):\n",
    "            fmt[l] = s\n",
    "\n",
    "        plt.clabel(cs, cs.levels[::2], inline=True, fmt=fmt, fontsize=10)\n"
   ]
  },
  {
   "cell_type": "markdown",
   "metadata": {},
   "source": [
    "Plot the boundary: "
   ]
  },
  {
   "cell_type": "code",
   "execution_count": 12,
   "metadata": {
    "collapsed": false
   },
   "outputs": [
    {
     "data": {
      "image/png": "[encoded data removed]",
      "text/plain": [
       "<matplotlib.figure.Figure at 0x10eb2da50>"
      ]
     },
     "metadata": {},
     "output_type": "display_data"
    }
   ],
   "source": [
    "plot_data(x[:, 1:3], y)\n",
    "plot_decision_boundary(theta, x, y)\n",
    "plt.xlabel('Microchip Test 1')\n",
    "plt.ylabel('Microchip Test 2')\n",
    "plt.show()"
   ]
  },
  {
   "cell_type": "markdown",
   "metadata": {},
   "source": [
    "The `predict` function below predicts the input data with learned logistic regression parameters."
   ]
  },
  {
   "cell_type": "code",
   "execution_count": 13,
   "metadata": {
    "collapsed": true
   },
   "outputs": [],
   "source": [
    "def predict(theta, x):\n",
    "    \"\"\"\n",
    "    Predict whether the label is 0 or 1 using learned logistic regression parameters theta.\n",
    "\n",
    "    Parameters\n",
    "    ----------\n",
    "    theta : ndarray\n",
    "        Linear regression parameter, n by 1 matrix where n is the number of features.\n",
    "    x : ndarray\n",
    "        Training data, m by n matrix where m is the number of data samples.\n",
    "\n",
    "    Returns\n",
    "    -------\n",
    "    ndarray\n",
    "        The predictions for X using a threshold at 0.5, m by 1 matrix.\n",
    "    \"\"\"\n",
    "    p = sigmoid(x.dot(theta)) >= 0.5\n",
    "    p.resize(len(p), 1)\n",
    "    return p.astype(int)"
   ]
  },
  {
   "cell_type": "markdown",
   "metadata": {},
   "source": [
    "Compute accuracy on our training set: "
   ]
  },
  {
   "cell_type": "code",
   "execution_count": 14,
   "metadata": {
    "collapsed": false
   },
   "outputs": [
    {
     "name": "stdout",
     "output_type": "stream",
     "text": [
      "Train Accuracy: 83.0508474576\n"
     ]
    }
   ],
   "source": [
    "p = predict(theta, x)\n",
    "print 'Train Accuracy:', np.mean(p == y) * 100"
   ]
  }
 ],
 "metadata": {
  "anaconda-cloud": {},
  "kernelspec": {
   "display_name": "Python [conda root]",
   "language": "python",
   "name": "conda-root-py"
  },
  "language_info": {
   "codemirror_mode": {
    "name": "ipython",
    "version": 2
   },
   "file_extension": ".py",
   "mimetype": "text/x-python",
   "name": "python",
   "nbconvert_exporter": "python",
   "pygments_lexer": "ipython2",
   "version": "2.7.12"
  }
 },
 "nbformat": 4,
 "nbformat_minor": 1
}
