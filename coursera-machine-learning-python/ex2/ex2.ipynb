{
 "cells": [
  {
   "cell_type": "markdown",
   "metadata": {},
   "source": [
    "#  Machine Learning Online Class - Exercise 2: Logistic Regression\n",
    "\n",
    "In this exercise, you will implement logistic regression and apply it to two different datasets. "
   ]
  },
  {
   "cell_type": "markdown",
   "metadata": {},
   "source": [
    "## Load Data\n",
    "\n",
    "The first two columns contains the exam scores and the third column contains the label."
   ]
  },
  {
   "cell_type": "code",
   "execution_count": 1,
   "metadata": {
    "collapsed": true
   },
   "outputs": [],
   "source": [
    "import numpy as np\n",
    "\n",
    "\n",
    "data = np.loadtxt(open(\"ex2data1.txt\", \"r\"), delimiter=\",\")\n",
    "x = data[:, 0:2]\n",
    "y = data[:, 2:3]"
   ]
  },
  {
   "cell_type": "markdown",
   "metadata": {},
   "source": [
    "## Part 1: Plotting\n",
    "\n",
    "The `plot_data` function below is used to plot the data loaded above"
   ]
  },
  {
   "cell_type": "code",
   "execution_count": 2,
   "metadata": {
    "collapsed": true
   },
   "outputs": [],
   "source": [
    "import matplotlib.pyplot as plt\n",
    "\n",
    "\n",
    "def plot_data(x, y, show=False):\n",
    "    \"\"\"\n",
    "    Plots the data points x and y into a new figure.\n",
    "\n",
    "    Parameters\n",
    "    ----------\n",
    "    x : array\n",
    "        Data on x axis. It's a m by 2 matrix, where m is the number of data samples and the number of features is 2.\n",
    "    y : array\n",
    "        Data on y axis, m by 1 matrix.\n",
    "    show : bool\n",
    "        True to show the plot immediately.\n",
    "    \"\"\"\n",
    "    plt.figure()\n",
    "\n",
    "    pos = np.argwhere(y.flatten() == 1)\n",
    "    neg = np.argwhere(y.flatten() == 0)\n",
    "\n",
    "    plt.plot(x[pos, 0], x[pos, 1], linestyle='', marker='+', color='k')\n",
    "    plt.plot(x[neg, 0], x[neg, 1], linestyle='', marker='o', color='y')\n",
    "\n",
    "    if show:\n",
    "        plt.show()"
   ]
  },
  {
   "cell_type": "markdown",
   "metadata": {},
   "source": [
    "Plotting data with + indicating (y = 1) examples and o indicating (y = 0) examples:"
   ]
  },
  {
   "cell_type": "code",
   "execution_count": 3,
   "metadata": {
    "collapsed": false
   },
   "outputs": [
    {
     "data": {
      "image/png": "[encoded data removed]",
      "text/plain": [
       "<matplotlib.figure.Figure at 0x1097ef290>"
      ]
     },
     "metadata": {},
     "output_type": "display_data"
    }
   ],
   "source": [
    "plot_data(x, y)\n",
    "# Labels and Legend\n",
    "plt.xlabel('Exam 1 score')\n",
    "plt.ylabel('Exam 2 score')\n",
    "plt.legend(['Admitted', 'Not admitted'], loc='upper right', numpoints=1)\n",
    "plt.show()"
   ]
  },
  {
   "cell_type": "markdown",
   "metadata": {},
   "source": [
    "## Part 2: Compute Cost and Gradient\n",
    "\n",
    "Initialize training parameters as follows:"
   ]
  },
  {
   "cell_type": "code",
   "execution_count": 4,
   "metadata": {
    "collapsed": true
   },
   "outputs": [],
   "source": [
    "# Setup the data matrix appropriately, and add ones for the intercept term\n",
    "m, n = x.shape\n",
    "# Add intercept term to x and X_test\n",
    "x = np.hstack((np.ones((m, 1)), x))\n",
    "# Initialize fitting parameters\n",
    "theta = np.zeros((n + 1, 1))  # Initialize fitting parameters"
   ]
  },
  {
   "cell_type": "markdown",
   "metadata": {},
   "source": [
    "To compute the cost, we need the sigmoid function implemented first."
   ]
  },
  {
   "cell_type": "code",
   "execution_count": 5,
   "metadata": {
    "collapsed": true
   },
   "outputs": [],
   "source": [
    "def sigmoid(z):\n",
    "    \"\"\"\n",
    "    Compute sigmoid function.\n",
    "\n",
    "    Parameters\n",
    "    ----------\n",
    "    z : array_like\n",
    "        Variable for sigmoid function.\n",
    "\n",
    "    Returns\n",
    "    -------\n",
    "    ndarray\n",
    "        The sigmoid of each value of z.\n",
    "    \"\"\"\n",
    "    g = 1 / (1 + np.exp(-z))\n",
    "    return g"
   ]
  },
  {
   "cell_type": "markdown",
   "metadata": {},
   "source": [
    "The `cost_function` below compute cost and gradient for logistic regression."
   ]
  },
  {
   "cell_type": "code",
   "execution_count": 6,
   "metadata": {
    "collapsed": true
   },
   "outputs": [],
   "source": [
    "def cost_function(theta, x, y):\n",
    "    \"\"\"\n",
    "    Compute cost and gradient for logistic regression.\n",
    "\n",
    "    Parameters\n",
    "    ----------\n",
    "    theta : ndarray\n",
    "        Linear regression parameter, n by 1 matrix where n is the number of features.\n",
    "    x : ndarray\n",
    "        Training data, m by n matrix where m is the number of data samples.\n",
    "    y : ndarray\n",
    "        Labels, m by 1 matrix.\n",
    "\n",
    "    Returns\n",
    "    -------\n",
    "    J : numpy.float64\n",
    "        The cost of using theta as the parameter for linear regression to fit the data points in x and y.\n",
    "    grad: ndarray\n",
    "        The gradient of the cost w.r.t. the parameters, n by 1 matrix.\n",
    "    \"\"\"\n",
    "    m, n = x.shape\n",
    "    theta = theta.reshape(n, 1)\n",
    "    x_dot_theta = x.dot(theta)\n",
    "\n",
    "    j = 1.0 / m * (np.dot(-y.T, np.log(sigmoid(x_dot_theta))) - np.dot((1 - y).T, np.log(1 - sigmoid(x_dot_theta))))\n",
    "    j = j.flatten()\n",
    "\n",
    "    grad = 1.0 / m * np.dot((sigmoid(x_dot_theta) - y).T, x).T\n",
    "\n",
    "    return j[0], grad"
   ]
  },
  {
   "cell_type": "markdown",
   "metadata": {},
   "source": [
    "Test the `cost_function` on initial values:"
   ]
  },
  {
   "cell_type": "code",
   "execution_count": 7,
   "metadata": {
    "collapsed": false
   },
   "outputs": [
    {
     "name": "stdout",
     "output_type": "stream",
     "text": [
      "Cost at initial theta (zeros): 0.69314718056\n",
      "Gradient at initial theta (zeros): [[ -0.1       ]\n",
      " [-12.00921659]\n",
      " [-11.26284221]]\n"
     ]
    }
   ],
   "source": [
    "cost, grad = cost_function(theta, x, y)\n",
    "\n",
    "print 'Cost at initial theta (zeros):', cost\n",
    "print 'Gradient at initial theta (zeros):', grad"
   ]
  },
  {
   "cell_type": "markdown",
   "metadata": {},
   "source": [
    "##  Optimizing using `fmin_tn`\n",
    "\n",
    "The `fmin_tnc` function in `scipy.optmize` need a separate implementation for cost and gradient function, which are implemented as follows using the `cost_function`."
   ]
  },
  {
   "cell_type": "code",
   "execution_count": 8,
   "metadata": {
    "collapsed": true
   },
   "outputs": [],
   "source": [
    "def cost_opt(theta, x, y):\n",
    "    \"\"\"\n",
    "    Compute cost for logistic regression.\n",
    "\n",
    "    Parameters\n",
    "    ----------\n",
    "    theta : ndarray\n",
    "        Linear regression parameter, n by 1 matrix where n is the number of features.\n",
    "    x : ndarray\n",
    "        Training data, m by n matrix where m is the number of data samples.\n",
    "    y : ndarray\n",
    "        Labels, m by 1 matrix.\n",
    "\n",
    "\n",
    "    Returns\n",
    "    -------\n",
    "    J : numpy.float64\n",
    "        The cost of using theta as the parameter for linear regression to fit the data points in x and y.\n",
    "    \"\"\"\n",
    "    j, g = cost_function(theta, x, y)\n",
    "    return j\n",
    "\n",
    "\n",
    "def gradient_opt(theta, x, y):\n",
    "    \"\"\"\n",
    "    Compute gradient for logistic regression.\n",
    "\n",
    "    Parameters\n",
    "    ----------\n",
    "    theta : ndarray\n",
    "        Linear regression parameter, n by 1 matrix where n is the number of features.\n",
    "    x : ndarray\n",
    "        Training data, m by n matrix where m is the number of data samples.\n",
    "    y : ndarray\n",
    "        Labels, m by 1 matrix.\n",
    "\n",
    "    Returns\n",
    "    -------\n",
    "    grad: ndarray\n",
    "        The gradient of the cost w.r.t. the parameters, n by 1 matrix.\n",
    "    \"\"\"\n",
    "    j, g = cost_function(theta, x, y)\n",
    "    return g"
   ]
  },
  {
   "cell_type": "markdown",
   "metadata": {},
   "source": [
    "Train the model with `fin_tnc`:"
   ]
  },
  {
   "cell_type": "code",
   "execution_count": 9,
   "metadata": {
    "collapsed": false
   },
   "outputs": [
    {
     "name": "stdout",
     "output_type": "stream",
     "text": [
      "Cost at theta found by fminunc: 0.203497701589\n",
      "theta: [-25.1613187    0.20623159   0.20147149]\n"
     ]
    }
   ],
   "source": [
    "import scipy.optimize as opt\n",
    "\n",
    "\n",
    "result = opt.fmin_tnc(func=cost_opt, x0=theta, fprime=gradient_opt, args=(x, y))\n",
    "theta = result[0].T\n",
    "print 'Cost at theta found by fminunc:',  cost_opt(theta, x, y)\n",
    "print 'theta:', theta"
   ]
  },
  {
   "cell_type": "markdown",
   "metadata": {
    "collapsed": false
   },
   "source": [
    "The `plot_decision_boundary` function below helps to plot the decision boundary."
   ]
  },
  {
   "cell_type": "code",
   "execution_count": 10,
   "metadata": {
    "collapsed": true
   },
   "outputs": [],
   "source": [
    "import matplotlib.pyplot as plt\n",
    "\n",
    "\n",
    "def plot_decision_boundary(theta, x, y):\n",
    "    \"\"\"\n",
    "    Plots the data points X and y into a new figure with the decision boundary defined by theta.\n",
    "\n",
    "    Parameters\n",
    "    ----------\n",
    "    theta : ndarray\n",
    "        Linear regression parameter, n by 1 matrix where n is the number of features.\n",
    "    x : ndarray\n",
    "        Training data, m by n matrix where m is the number of data samples.\n",
    "    y : ndarray\n",
    "        Labels, m by 1 matrix.\n",
    "    \"\"\"\n",
    "    if x.shape[1] <= 3:\n",
    "        plot_x = np.array([np.amin(x[:, 1]) - 2, np.amax(x[:, 1]) + 2])\n",
    "        plot_y = -1.0 / theta[2] * (theta[1] * plot_x + theta[0])\n",
    "        print plot_x, plot_y\n",
    "        plt.plot(plot_x, plot_y)\n"
   ]
  },
  {
   "cell_type": "markdown",
   "metadata": {},
   "source": [
    "Plot the boundary:"
   ]
  },
  {
   "cell_type": "code",
   "execution_count": 11,
   "metadata": {
    "collapsed": false
   },
   "outputs": [
    {
     "name": "stdout",
     "output_type": "stream",
     "text": [
      "[  28.05882245  101.8278578 ] [ 96.16598095  20.65402814]\n"
     ]
    },
    {
     "data": {
      "image/png": "[encoded data removed]",
      "text/plain": [
       "<matplotlib.figure.Figure at 0x1097edc10>"
      ]
     },
     "metadata": {},
     "output_type": "display_data"
    }
   ],
   "source": [
    "plot_data(x[:, 1:], y)\n",
    "plot_decision_boundary(result[0], x, y)\n",
    "plt.show()"
   ]
  },
  {
   "cell_type": "markdown",
   "metadata": {},
   "source": [
    "## Part 4: Predict and Accuracies\n"
   ]
  },
  {
   "cell_type": "markdown",
   "metadata": {},
   "source": [
    "Predict probability for a student with score 45 on exam 1 and score 85 on exam 2: "
   ]
  },
  {
   "cell_type": "code",
   "execution_count": 12,
   "metadata": {
    "collapsed": false
   },
   "outputs": [
    {
     "name": "stdout",
     "output_type": "stream",
     "text": [
      "For a student with scores 45 and 85, we predict an admission probability of 0.77629062453\n"
     ]
    }
   ],
   "source": [
    "prob = sigmoid(np.dot(np.array([1, 45, 85]), theta))\n",
    "print 'For a student with scores 45 and 85, we predict an admission probability of', prob"
   ]
  },
  {
   "cell_type": "markdown",
   "metadata": {},
   "source": [
    "The `predict` function below predicts the input data with learned logistic regression parameters."
   ]
  },
  {
   "cell_type": "code",
   "execution_count": 13,
   "metadata": {
    "collapsed": true
   },
   "outputs": [],
   "source": [
    "def predict(theta, x):\n",
    "    \"\"\"\n",
    "    Predict whether the label is 0 or 1 using learned logistic regression parameters theta.\n",
    "\n",
    "    Parameters\n",
    "    ----------\n",
    "    theta : ndarray\n",
    "        Linear regression parameter, n by 1 matrix where n is the number of features.\n",
    "    x : ndarray\n",
    "        Training data, m by n matrix where m is the number of data samples.\n",
    "\n",
    "    Returns\n",
    "    -------\n",
    "    ndarray\n",
    "        The predictions for X using a threshold at 0.5, m by 1 matrix.\n",
    "    \"\"\"\n",
    "    p = sigmoid(x.dot(theta)) >= 0.5\n",
    "    p.resize(len(p), 1)\n",
    "    return p.astype(int)"
   ]
  },
  {
   "cell_type": "markdown",
   "metadata": {},
   "source": [
    "Compute accuracy on our training set: "
   ]
  },
  {
   "cell_type": "code",
   "execution_count": 14,
   "metadata": {
    "collapsed": false
   },
   "outputs": [
    {
     "name": "stdout",
     "output_type": "stream",
     "text": [
      "Train Accuracy: 89.0\n"
     ]
    }
   ],
   "source": [
    "p = predict(theta, x)\n",
    "print 'Train Accuracy:', np.mean(p == y) * 100"
   ]
  }
 ],
 "metadata": {
  "anaconda-cloud": {},
  "kernelspec": {
   "display_name": "Python [conda root]",
   "language": "python",
   "name": "conda-root-py"
  },
  "language_info": {
   "codemirror_mode": {
    "name": "ipython",
    "version": 2
   },
   "file_extension": ".py",
   "mimetype": "text/x-python",
   "name": "python",
   "nbconvert_exporter": "python",
   "pygments_lexer": "ipython2",
   "version": "2.7.12"
  }
 },
 "nbformat": 4,
 "nbformat_minor": 1
}
