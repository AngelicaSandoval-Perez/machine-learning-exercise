{
 "cells": [
  {
   "cell_type": "code",
   "execution_count": 1,
   "metadata": {},
   "outputs": [],
   "source": [
    "import tensorflow as tf\n",
    "from tensorflow.examples.tutorials.mnist import input_data\n",
    "from tensorflow.python.framework import graph_util\n",
    "import numpy as np"
   ]
  },
  {
   "cell_type": "code",
   "execution_count": 2,
   "metadata": {},
   "outputs": [],
   "source": [
    "IMAGE_SIZE = 28\n",
    "IMAGE_CHANNEL_NUM = 1\n",
    "\n",
    "INPUT_SIZE = IMAGE_SIZE * IMAGE_SIZE\n",
    "OUTPUT_SIZE = 10\n",
    "\n",
    "CONV_1_SIZE = 5\n",
    "CONV_1_DEPTH = 32\n",
    "\n",
    "CONV_2_SIZE = 5\n",
    "CONV_2_DEPTH = 64\n",
    "\n",
    "FC_SIZE = 512"
   ]
  },
  {
   "cell_type": "code",
   "execution_count": 3,
   "metadata": {},
   "outputs": [],
   "source": [
    "def get_weight(shape):\n",
    "    return tf.get_variable(\"weight\", shape, initializer=tf.truncated_normal_initializer(stddev=0.1))"
   ]
  },
  {
   "cell_type": "code",
   "execution_count": 4,
   "metadata": {},
   "outputs": [],
   "source": [
    "def get_bias(shape):\n",
    "    return tf.get_variable(\"bias\", shape, initializer=tf.constant_initializer(0.0))"
   ]
  },
  {
   "cell_type": "code",
   "execution_count": 5,
   "metadata": {},
   "outputs": [],
   "source": [
    "def conv2d(input_tensor, weight):\n",
    "    return tf.nn.conv2d(input_tensor, weight, strides=[1, 1, 1, 1], padding=\"SAME\")"
   ]
  },
  {
   "cell_type": "code",
   "execution_count": 6,
   "metadata": {},
   "outputs": [],
   "source": [
    "def max_pool_2x2(input_tensor):\n",
    "    return tf.nn.max_pool(input_tensor, ksize=[1, 2, 2, 1], strides=[1, 2, 2, 1], padding=\"SAME\")"
   ]
  },
  {
   "cell_type": "code",
   "execution_count": 7,
   "metadata": {},
   "outputs": [],
   "source": [
    "def inference(input_tensor, regularizer=None):\n",
    "    with tf.variable_scope(\"layer_1_conv\"):\n",
    "        conv_1_weight = get_weight([CONV_1_SIZE, CONV_1_SIZE, IMAGE_CHANNEL_NUM, CONV_1_DEPTH])\n",
    "        conv_1_bias = get_bias([CONV_1_DEPTH])\n",
    "        conv_1 = conv2d(input_tensor, conv_1_weight)\n",
    "        conv_1_activation = tf.nn.relu(tf.nn.bias_add(conv_1, conv_1_bias))\n",
    "    with tf.variable_scope(\"layer_1_pool\"):\n",
    "        pool_1 = max_pool_2x2(conv_1_activation)\n",
    "    with tf.variable_scope(\"layer_2_conv\"):\n",
    "        conv_2_weight = get_weight([CONV_2_SIZE, CONV_2_SIZE, CONV_1_DEPTH, CONV_2_DEPTH])\n",
    "        conv_2_bias = get_bias([CONV_2_DEPTH])\n",
    "        conv_2 = conv2d(pool_1, conv_2_weight)\n",
    "        conv_2_activation = tf.nn.relu(tf.nn.bias_add(conv_2, conv_2_bias))\n",
    "    with tf.variable_scope(\"layer_2_pool\"):\n",
    "        pool_2 = max_pool_2x2(conv_2_activation)\n",
    "        pool_2_shape = pool_2.get_shape().as_list()\n",
    "        nodes = pool_2_shape[1] * pool_2_shape[2] * pool_2_shape[3]\n",
    "        pool_2_reshaped = tf.reshape(pool_2, [-1, nodes])\n",
    "    with tf.variable_scope(\"layer_3_fc\"):\n",
    "        fc_1_weight = get_weight([nodes, FC_SIZE])\n",
    "        if regularizer != None:\n",
    "            tf.add_to_collection(\"losses\", regularizer(fc_1_weight))\n",
    "        fc_1_bias = get_bias([FC_SIZE])\n",
    "        fc_1 = tf.matmul(pool_2_reshaped, fc_1_weight) + fc_1_bias\n",
    "        fc_1_activation = tf.nn.relu(fc_1)\n",
    "    with tf.variable_scope(\"layer_4_fc\"):\n",
    "        fc_2_weight = get_weight([FC_SIZE, OUTPUT_SIZE])\n",
    "        if regularizer != None:\n",
    "            tf.add_to_collection(\"losses\", regularizer(fc_2_weight))\n",
    "        fc_2_bias = get_bias([OUTPUT_SIZE])\n",
    "        logits = tf.matmul(fc_1_activation, fc_2_weight) + fc_2_bias\n",
    "    return logits"
   ]
  },
  {
   "cell_type": "code",
   "execution_count": 8,
   "metadata": {},
   "outputs": [],
   "source": [
    "BATCH_SIZE = 100\n",
    "LEARNING_RATE = 0.01\n",
    "REGULARIZATION_RATE = 0.0001\n",
    "# TRAINING_STEPS = 3000\n",
    "TRAINING_STEPS = 200\n",
    "MOVING_AVERAGE_DECAY = 0.99"
   ]
  },
  {
   "cell_type": "code",
   "execution_count": 9,
   "metadata": {},
   "outputs": [
    {
     "name": "stdout",
     "output_type": "stream",
     "text": [
      "Tensor(\"x:0\", shape=(?, 28, 28, 1), dtype=float32) Tensor(\"output:0\", shape=(?, 10), dtype=float32)\n"
     ]
    }
   ],
   "source": [
    "x = tf.placeholder(tf.float32, [None, IMAGE_SIZE, IMAGE_SIZE, IMAGE_CHANNEL_NUM], name=\"x\")\n",
    "y_ = tf.placeholder(tf.float32, [None, OUTPUT_SIZE], name=\"y_\")\n",
    "regularizer = tf.contrib.layers.l2_regularizer(REGULARIZATION_RATE)\n",
    "y = inference(x, regularizer)\n",
    "global_step = tf.Variable(0, trainable=False)\n",
    "cross_entropy = tf.nn.sparse_softmax_cross_entropy_with_logits(logits=y, labels=tf.argmax(y_, 1))\n",
    "loss = tf.reduce_mean(cross_entropy) + tf.add_n(tf.get_collection(\"losses\"))\n",
    "train_op = tf.train.GradientDescentOptimizer(LEARNING_RATE).minimize(loss, global_step=global_step)\n",
    "\n",
    "correct_prediction = tf.equal(tf.argmax(y, 1), tf.argmax(y_, 1))\n",
    "accuracy = tf.reduce_mean(tf.cast(correct_prediction, tf.float32))\n",
    "\n",
    "output = tf.identity(tf.nn.softmax(y, axis=1), name=\"output\")\n",
    "print(x, output)"
   ]
  },
  {
   "cell_type": "code",
   "execution_count": 10,
   "metadata": {},
   "outputs": [
    {
     "name": "stdout",
     "output_type": "stream",
     "text": [
      "Extracting ./data/train-images-idx3-ubyte.gz\n",
      "Extracting ./data/train-labels-idx1-ubyte.gz\n",
      "Extracting ./data/t10k-images-idx3-ubyte.gz\n",
      "Extracting ./data/t10k-labels-idx1-ubyte.gz\n"
     ]
    }
   ],
   "source": [
    "mnist = input_data.read_data_sets(\"./data\", one_hot=True)"
   ]
  },
  {
   "cell_type": "code",
   "execution_count": null,
   "metadata": {},
   "outputs": [],
   "source": [
    "def reshape_image(images, num):\n",
    "    return np.reshape(images, [num, IMAGE_SIZE, IMAGE_SIZE, IMAGE_CHANNEL_NUM])"
   ]
  },
  {
   "cell_type": "code",
   "execution_count": null,
   "metadata": {},
   "outputs": [
    {
     "name": "stdout",
     "output_type": "stream",
     "text": [
      "Setp 50, loss = 1.17767, accuracy = 0.7772.\n",
      "Setp 100, loss = 1.03495, accuracy = 0.8768.\n"
     ]
    }
   ],
   "source": [
    "with tf.Session() as sess:\n",
    "    tf.global_variables_initializer().run()\n",
    "    for i in range(1, TRAINING_STEPS + 1):\n",
    "        xs, ys = mnist.train.next_batch(BATCH_SIZE)\n",
    "        xs_reshaped = reshape_image(xs, BATCH_SIZE)\n",
    "        x_validate = reshape_image(mnist.validation.images, mnist.validation.num_examples)\n",
    "        _, loss_value, step = sess.run([train_op, loss, global_step], feed_dict={x: xs_reshaped, y_: ys})\n",
    "        if i % 50 == 0:\n",
    "            accuracy_value = sess.run(accuracy, feed_dict={x: x_validate, y_: mnist.validation.labels})\n",
    "            print(\"Setp %d, loss = %g, accuracy = %g.\" % (step, loss_value, accuracy_value))\n",
    "    graph_def = tf.get_default_graph().as_graph_def()\n",
    "    output_graph = graph_util.convert_variables_to_constants(sess, graph_def, [\"output\"])\n",
    "    with tf.gfile.GFile(\"./mnist.pb\", \"wb\") as f:\n",
    "        f.write(output_graph.SerializeToString())"
   ]
  },
  {
   "cell_type": "markdown",
   "metadata": {},
   "source": [
    "```\n",
    "TENSORFLOW_REPO_DIR/bazel-bin/tensorflow/contrib/lite/toco/toco  \\\n",
    "  --input_file=mnist.pb \\\n",
    "  --input_format=TENSORFLOW_GRAPHDEF  --output_format=TFLITE \\\n",
    "  --output_file=mnist.tflite --inference_type=FLOAT \\\n",
    "  --input_type=FLOAT --input_arrays=x \\\n",
    "  --output_arrays=output --input_shapes=1,28,28,1\n",
    "```"
   ]
  }
 ],
 "metadata": {
  "kernelspec": {
   "display_name": "Python [conda env:tensorflow36]",
   "language": "python",
   "name": "conda-env-tensorflow36-py"
  },
  "language_info": {
   "codemirror_mode": {
    "name": "ipython",
    "version": 3
   },
   "file_extension": ".py",
   "mimetype": "text/x-python",
   "name": "python",
   "nbconvert_exporter": "python",
   "pygments_lexer": "ipython3",
   "version": "3.6.4"
  }
 },
 "nbformat": 4,
 "nbformat_minor": 2
}
